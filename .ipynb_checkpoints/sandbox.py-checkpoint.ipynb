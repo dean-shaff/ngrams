{
 "cells": [
  {
   "cell_type": "code",
   "execution_count": 2,
   "metadata": {
    "collapsed": false
   },
   "outputs": [],
   "source": [
    "filename = \"texts/AustenPride.txt\"\n",
    "master_str = \"\"\n",
    "with open(filename, 'r') as f:\n",
    "    master_str += f.read()\n",
    "master_tokens = list(master_str)\n",
    "# print(master_str)"
   ]
  },
  {
   "cell_type": "code",
   "execution_count": 15,
   "metadata": {
    "collapsed": false
   },
   "outputs": [
    {
     "name": "stdout",
     "output_type": "stream",
     "text": [
      "set(['\\n', '\\r', '!', ' ', '\"', \"'\", '-', ',', '.', ';', 'C', 'B', 'E', 'D', 'G', 'I', 'K', 'J', 'M', 'L', 'O', 'S', 'R', 'W', '_', 'a', 'c', 'b', 'e', 'd', 'g', 'f', 'i', 'h', 'k', 'j', 'm', 'l', 'o', 'n', 'q', 'p', 's', 'r', 'u', 't', 'w', 'v', 'y'])\n",
      "[0.007713456544982435, 0.03513059416526654, 0.0001527417137620284, 0.29914464640293265, 0.0009164502825721705, 7.63708568810142e-05, 0.0005345959981670994, 0.00022911257064304262, 0.00045822514128608525, 7.63708568810142e-05, 0.00022911257064304262, 0.0005345959981670994, 0.0005345959981670994, 0.0001527417137620284, 7.63708568810142e-05, 7.63708568810142e-05, 0.0003054834275240568, 0.0006109668550481136, 0.002214754849549412, 0.00038185428440507105, 7.63708568810142e-05, 7.63708568810142e-05, 7.63708568810142e-05, 0.00045822514128608525, 0.0007637085688101421, 0.01741255536887124, 0.003436688559645639, 0.0008400794256911562, 0.008324423400030548, 0.0017565297082633266, 0.0019856422789063695, 0.002596609133954483, 0.03482511073774248, 0.01687795937070414, 0.0003054834275240568, 0.00045822514128608525, 0.040629295860699556, 0.0020620131357873836, 0.01000458225141286, 0.09454712081869558, 0.00022911257064304262, 0.0026729799908354972, 0.05193218267908966, 0.1295249732702001, 0.04414235527722621, 0.13464182068122804, 0.010233694822055904, 0.00045822514128608525, 0.03910187872307927]\n",
      "u\n"
     ]
    }
   ],
   "source": [
    "def find_sublist(sublist,biglist):\n",
    "    \"\"\"\n",
    "    Find occurances of sublist in biglist \n",
    "    \"\"\"\n",
    "    indices = []\n",
    "    matches = []\n",
    "    n = len(sublist)\n",
    "    for i in xrange(len(biglist) - n):\n",
    "        if biglist[i:i+n] == sublist:\n",
    "            indices.append(i)\n",
    "            matches.append(biglist[i+n])\n",
    "        else:\n",
    "            continue\n",
    "    unique_matches = set(matches)\n",
    "    n_matches = len(matches)\n",
    "    freq = [float(matches.count(unique))/n_matches for unique in unique_matches]\n",
    "    return indices, matches, freq\n",
    "# print(master_tokens)\n",
    "foo = list('the')\n",
    "indices, matches, freq = find_sublist(['t','h'],master_tokens)\n",
    "print(freq)\n",
    "print(matches[0])\n"
   ]
  }
 ],
 "metadata": {
  "kernelspec": {
   "display_name": "Python 2",
   "language": "python",
   "name": "python2"
  },
  "language_info": {
   "codemirror_mode": {
    "name": "ipython",
    "version": 2
   },
   "file_extension": ".py",
   "mimetype": "text/x-python",
   "name": "python",
   "nbconvert_exporter": "python",
   "pygments_lexer": "ipython2",
   "version": "2.7.12"
  }
 },
 "nbformat": 4,
 "nbformat_minor": 0
}
