{
 "cells": [
  {
   "cell_type": "code",
   "execution_count": 2,
   "metadata": {
    "collapsed": false
   },
   "outputs": [],
   "source": [
    "filename = \"texts/AustenPride.txt\"\n",
    "master_str = \"\"\n",
    "with open(filename, 'r') as f:\n",
    "    master_str += f.read()\n",
    "master_tokens = list(master_str)\n",
    "# print(master_str)"
   ]
  },
  {
   "cell_type": "code",
   "execution_count": 48,
   "metadata": {
    "collapsed": false
   },
   "outputs": [
    {
     "name": "stdout",
     "output_type": "stream",
     "text": [
      "e\n"
     ]
    }
   ],
   "source": [
    "def find_sublist(sublist,biglist):\n",
    "    \"\"\"\n",
    "    Find occurances of sublist in biglist \n",
    "    \"\"\"\n",
    "    indices = []\n",
    "    matches = []\n",
    "    n = len(sublist)\n",
    "    for i in xrange(len(biglist) - n):\n",
    "        if biglist[i:i+n] == sublist:\n",
    "            indices.append(i)\n",
    "            matches.append(biglist[i+n])\n",
    "        else:\n",
    "            continue\n",
    "    unique_matches = list(set(matches))\n",
    "    n_matches = len(matches)\n",
    "    freq = [float(matches.count(unique))/n_matches for unique in unique_matches]\n",
    "    return {\n",
    "        'matches':matches,\n",
    "        'unique_matches':unique_matches,\n",
    "        'freq':freq\n",
    "    }\n",
    "# print(master_tokens)\n",
    "foo = list('the')\n",
    "foo = find_sublist(['t','h'],master_tokens)\n",
    "freq = foo['freq']\n",
    "unique_matches = foo['unique_matches']\n",
    "choice = np.random.choice(len(freq),1,p=freq)\n",
    "print(unique_matches[choice[0]])"
   ]
  }
 ],
 "metadata": {
  "kernelspec": {
   "display_name": "Python 2",
   "language": "python",
   "name": "python2"
  },
  "language_info": {
   "codemirror_mode": {
    "name": "ipython",
    "version": 2
   },
   "file_extension": ".py",
   "mimetype": "text/x-python",
   "name": "python",
   "nbconvert_exporter": "python",
   "pygments_lexer": "ipython2",
   "version": "2.7.12"
  }
 },
 "nbformat": 4,
 "nbformat_minor": 0
}
